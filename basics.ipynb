{
 "cells": [
  {
   "cell_type": "code",
   "execution_count": 1,
   "id": "216631c0-0099-41b8-bcaa-5ac70953b7f9",
   "metadata": {},
   "outputs": [
    {
     "name": "stdout",
     "output_type": "stream",
     "text": [
      "Again I have started learning python\n"
     ]
    }
   ],
   "source": [
    "print(\"Again I have started learning python\")"
   ]
  },
  {
   "cell_type": "code",
   "execution_count": 7,
   "id": "dc3e3f94-aab2-40c5-87a4-572a5b15f80e",
   "metadata": {},
   "outputs": [
    {
     "name": "stdout",
     "output_type": "stream",
     "text": [
      "7\n"
     ]
    }
   ],
   "source": [
    "x= 2+5\n",
    "print(x)"
   ]
  },
  {
   "cell_type": "code",
   "execution_count": 9,
   "id": "2881acc7-945b-48cf-8976-c4b32b9633f4",
   "metadata": {},
   "outputs": [
    {
     "name": "stdout",
     "output_type": "stream",
     "text": [
      "5.0\n"
     ]
    }
   ],
   "source": [
    "x = 1+2*3-8/4\n",
    "print(x)"
   ]
  },
  {
   "cell_type": "code",
   "execution_count": 11,
   "id": "e9466275-a2fe-4416-b60d-07840dab7c6a",
   "metadata": {},
   "outputs": [
    {
     "name": "stdout",
     "output_type": "stream",
     "text": [
      "98\n"
     ]
    }
   ],
   "source": [
    "x= int(98.6)\n",
    "print(x)"
   ]
  },
  {
   "cell_type": "code",
   "execution_count": 29,
   "id": "9da7df3a-0a72-4dd3-bef2-9640c258e71a",
   "metadata": {},
   "outputs": [
    {
     "name": "stdout",
     "output_type": "stream",
     "text": [
      "Two or more\n"
     ]
    }
   ],
   "source": [
    "x=10\n",
    "if x < 2:\n",
    "    print('Below 2')\n",
    "elif x >= 2:\n",
    "    print('Two or more')\n",
    "else:\n",
    "    print('Soemthing else')   # This statement will never print"
   ]
  },
  {
   "cell_type": "code",
   "execution_count": 31,
   "id": "d7a729b7-3150-4c5e-a52e-e43100974909",
   "metadata": {},
   "outputs": [
    {
     "name": "stdout",
     "output_type": "stream",
     "text": [
      "Below 20\n"
     ]
    }
   ],
   "source": [
    "x=8\n",
    "if x<2:\n",
    "    print('Below 2')\n",
    "elif x < 20:\n",
    "    print('Below 20')\n",
    "elif x < 10:\n",
    "    print('below 10')     # This statement will never print\n",
    "else:\n",
    "    print('Something else')"
   ]
  },
  {
   "cell_type": "code",
   "execution_count": 37,
   "id": "2ca04271-798c-402d-8c5a-33924ece942a",
   "metadata": {},
   "outputs": [
    {
     "name": "stdout",
     "output_type": "stream",
     "text": [
      "First -1\n"
     ]
    }
   ],
   "source": [
    "# If you use TRY and EXCEPT is that it doesn't generate traceback error\n",
    "\n",
    "astr  = 'Hello Bob'\n",
    "try:\n",
    "    istr = int(astr)\n",
    "except:\n",
    "    istr = -1\n",
    "\n",
    "print('First',istr)\n"
   ]
  },
  {
   "cell_type": "code",
   "execution_count": 35,
   "id": "c046bd9c-b194-4dec-b7cd-4899603e8c64",
   "metadata": {},
   "outputs": [
    {
     "name": "stdout",
     "output_type": "stream",
     "text": [
      "Second 123\n"
     ]
    }
   ],
   "source": [
    "astr  = '123'\n",
    "try:\n",
    "    istr = int(astr)\n",
    "except:\n",
    "    istr = -1\n",
    "\n",
    "print('Second',istr)\n"
   ]
  },
  {
   "cell_type": "code",
   "execution_count": 41,
   "id": "9c39773d-632f-4bac-b106-6ace5ebcfb6b",
   "metadata": {},
   "outputs": [
    {
     "name": "stdin",
     "output_type": "stream",
     "text": [
      "Enter the Number:  forty tow\n"
     ]
    },
    {
     "name": "stdout",
     "output_type": "stream",
     "text": [
      "Not a Number\n"
     ]
    }
   ],
   "source": [
    "rawstr = input(\"Enter the Number: \")\n",
    "try:\n",
    "    istr = int(rawstr)\n",
    "\n",
    "except:\n",
    "    istr = -1\n",
    "\n",
    "if istr > 0:\n",
    "    print('nice work')\n",
    "else:\n",
    "    print('Not a Number')\n"
   ]
  },
  {
   "cell_type": "code",
   "execution_count": 57,
   "id": "5e8b6dbc-ea5d-4875-86b5-ce3799e53621",
   "metadata": {},
   "outputs": [
    {
     "name": "stdin",
     "output_type": "stream",
     "text": [
      "Enter Hours:  45\n",
      "Enter rate per hour:  10.5\n"
     ]
    },
    {
     "name": "stdout",
     "output_type": "stream",
     "text": [
      "498.75\n"
     ]
    }
   ],
   "source": [
    "hrs = float(input(\"Enter Hours: \"))\n",
    "rate = float(input(\"Enter rate per hour: \"))\n",
    "gross = 0\n",
    "\n",
    "if hrs <= 40 :\n",
    "    gross = hrs * rate\n",
    "    print(gross)\n",
    "else:\n",
    "    difference_hours = hrs - 40\n",
    "    upto_40 = 40 * rate\n",
    "    extra_work = difference_hours*(1.5*rate)\n",
    "    gross = upto_40 + extra_work\n",
    "    print(gross)\n",
    "    "
   ]
  },
  {
   "cell_type": "code",
   "execution_count": 79,
   "id": "84339f02-783f-4c6b-824c-bc36792579f1",
   "metadata": {},
   "outputs": [
    {
     "name": "stdin",
     "output_type": "stream",
     "text": [
      "Enter the score between 0.0 and 1.0 0.5\n"
     ]
    },
    {
     "name": "stdout",
     "output_type": "stream",
     "text": [
      "Your Grade is F \n"
     ]
    }
   ],
   "source": [
    "score = float(input(\"Enter the score between 0.0 and 1.0\"))\n",
    "\n",
    "if score > 1.0:\n",
    "    print ('out of range')\n",
    "elif score >= 0.9:\n",
    "    print(\"Your Grade is A \")\n",
    "elif score >= 0.8:\n",
    "    print(\"Your Grade is B \")\n",
    "elif score >= 0.7:\n",
    "    print(\"Your Grade is C \")\n",
    "elif score >= 0.6:\n",
    "    print(\"Your Grade is D \")\n",
    "elif score < 0.6:\n",
    "    print(\"Your Grade is F \")"
   ]
  },
  {
   "cell_type": "code",
   "execution_count": 1,
   "id": "a68c9144-3f3c-46d5-894d-acfec396de03",
   "metadata": {},
   "outputs": [
    {
     "name": "stdout",
     "output_type": "stream",
     "text": [
      "2\n"
     ]
    }
   ],
   "source": [
    "def addtwo(a,b):\n",
    "    added=a+b\n",
    "    return a\n",
    "\n",
    "\n",
    "x= addtwo(2,7)\n",
    "print(x)"
   ]
  },
  {
   "cell_type": "code",
   "execution_count": 13,
   "id": "feb4046f-d424-432c-8d7b-3549225f993d",
   "metadata": {},
   "outputs": [
    {
     "name": "stdin",
     "output_type": "stream",
     "text": [
      "Enter Hours:  45\n",
      "Enter rate per hour:  10.50\n"
     ]
    },
    {
     "name": "stdout",
     "output_type": "stream",
     "text": [
      "498.75\n"
     ]
    }
   ],
   "source": [
    "def computepay(hrs,rate):\n",
    "    difference_hours = hrs - 40\n",
    "    upto_40 = 40 * rate\n",
    "    extra_work = difference_hours*(1.5*rate)\n",
    "    gross = upto_40 + extra_work\n",
    "    return gross\n",
    "\n",
    "hrs = float(input(\"Enter Hours: \"))\n",
    "rate = float(input(\"Enter rate per hour: \"))\n",
    "gross = computepay(hrs,rate)\n",
    "print(gross)\n",
    "    "
   ]
  },
  {
   "cell_type": "code",
   "execution_count": 7,
   "id": "9480766b-a8e7-4d93-8180-448ddc673f80",
   "metadata": {},
   "outputs": [
    {
     "name": "stdin",
     "output_type": "stream",
     "text": [
      "> #\n",
      "> #\n",
      "> #\n",
      "> done\n"
     ]
    },
    {
     "name": "stdout",
     "output_type": "stream",
     "text": [
      "Done!\n"
     ]
    }
   ],
   "source": [
    "while True:\n",
    "    line = input('>' )\n",
    "    if line[0] == '#':\n",
    "        continue\n",
    "    if line == 'done':\n",
    "        break\n",
    "    print(line)\n",
    "print('Done!')"
   ]
  },
  {
   "cell_type": "code",
   "execution_count": 9,
   "id": "46371354-a5fd-42fb-a2c8-25dee2ca70c6",
   "metadata": {},
   "outputs": [
    {
     "name": "stdout",
     "output_type": "stream",
     "text": [
      "Before 100\n",
      "9 9\n",
      "9 41\n",
      "9 12\n",
      "3 3\n",
      "3 74\n",
      "3 15\n",
      "After 3\n"
     ]
    }
   ],
   "source": [
    "smallest_so_far = 100\n",
    "print('Before',smallest_so_far)\n",
    "\n",
    "for num in [9,41,12,3,74,15]:\n",
    "    if num < smallest_so_far:\n",
    "        smallest_so_far=num\n",
    "    print(smallest_so_far,num)\n",
    "print('After',smallest_so_far)"
   ]
  },
  {
   "cell_type": "code",
   "execution_count": 15,
   "id": "cde684ec-14bf-4e96-8a6c-0f09d4ee15f6",
   "metadata": {},
   "outputs": [
    {
     "name": "stdout",
     "output_type": "stream",
     "text": [
      "Before\n",
      "9 9\n",
      "9 41\n",
      "9 12\n",
      "3 3\n",
      "3 74\n",
      "3 15\n",
      "After 3\n"
     ]
    }
   ],
   "source": [
    "smallest = None    # None is a flag value\n",
    "print('Before')\n",
    "\n",
    "for value in [9,41,12,3,74,15]:\n",
    "    if smallest == None:\n",
    "       smallest=value\n",
    "    elif value < smallest:\n",
    "        smallest = value\n",
    "    print(smallest,value)\n",
    "print('After',smallest)\n"
   ]
  },
  {
   "cell_type": "code",
   "execution_count": 31,
   "id": "4188a493-28a2-4fd9-a479-4d91ff6c6345",
   "metadata": {},
   "outputs": [
    {
     "name": "stdin",
     "output_type": "stream",
     "text": [
      "Enter a number: 2\n",
      "Enter a number: 3\n",
      "Enter a number: dd\n"
     ]
    },
    {
     "name": "stdout",
     "output_type": "stream",
     "text": [
      "Invalid Input\n"
     ]
    },
    {
     "name": "stdin",
     "output_type": "stream",
     "text": [
      "Enter a number: done\n"
     ]
    },
    {
     "name": "stdout",
     "output_type": "stream",
     "text": [
      "All DONE\n",
      "5.0 2 2.5\n"
     ]
    }
   ],
   "source": [
    "num = 0\n",
    "tot = 0.0\n",
    "while True:\n",
    "    sval = input(\"Enter a number:\")\n",
    "    if sval == 'done':\n",
    "        break\n",
    "    try:\n",
    "        fval=float(sval)\n",
    "    except:\n",
    "        print('Invalid Input')\n",
    "        continue\n",
    "    num = num +1\n",
    "    tot = tot +fval\n",
    "    \n",
    "print(\"All DONE\")\n",
    "print(tot,num,tot/num)\n",
    "    "
   ]
  },
  {
   "cell_type": "code",
   "execution_count": 78,
   "id": "39815d10-6c93-42b3-9ebd-e354988a0b6b",
   "metadata": {},
   "outputs": [
    {
     "name": "stdin",
     "output_type": "stream",
     "text": [
      "Enter a number (or 'done' to stop):  7\n",
      "Enter a number (or 'done' to stop):  2\n",
      "Enter a number (or 'done' to stop):  bob\n"
     ]
    },
    {
     "name": "stdout",
     "output_type": "stream",
     "text": [
      "Invalid input! Please enter a valid number.\n"
     ]
    },
    {
     "name": "stdin",
     "output_type": "stream",
     "text": [
      "Enter a number (or 'done' to stop):  10\n",
      "Enter a number (or 'done' to stop):  4\n",
      "Enter a number (or 'done' to stop):  done\n"
     ]
    },
    {
     "name": "stdout",
     "output_type": "stream",
     "text": [
      "Largest number: 10.0\n",
      "Smallest number: 2.0\n"
     ]
    }
   ],
   "source": [
    "# Initialize the variables to track the largest and smallest numbers\n",
    "largest = None\n",
    "smallest = None\n",
    "\n",
    "while True:\n",
    "    user_input = input(\"Enter a number (or 'done' to stop): \")\n",
    "    \n",
    "    if user_input == \"done\":\n",
    "        break\n",
    "    \n",
    "    try:\n",
    "        # Try to convert the input to a number\n",
    "        num = float(user_input)\n",
    "        \n",
    "        # Update largest and smallest values\n",
    "        if largest is None or num > largest:\n",
    "            largest = num\n",
    "        if smallest is None or num < smallest:\n",
    "            smallest = num\n",
    "            \n",
    "    except ValueError:\n",
    "        # Handle the case where the input is not a number\n",
    "        print(\"Invalid input! Please enter a valid number.\")\n",
    "\n",
    "# After the loop ends, print the largest and smallest numbers\n",
    "if largest is not None and smallest is not None:\n",
    "    print(f\"Largest number: {largest}\")\n",
    "    print(f\"Smallest number: {smallest}\")\n",
    "else:\n",
    "    print(\"No valid numbers were entered.\")\n"
   ]
  },
  {
   "cell_type": "code",
   "execution_count": 3,
   "id": "f304748f-7eb9-4dca-95af-4e9df89d886b",
   "metadata": {},
   "outputs": [
    {
     "name": "stdout",
     "output_type": "stream",
     "text": [
      "Found it!\n"
     ]
    }
   ],
   "source": [
    "if 'a' in 'banana':\n",
    "    print('Found it!')"
   ]
  },
  {
   "cell_type": "code",
   "execution_count": 5,
   "id": "bf3ec020-f675-4739-9783-ac4fc88085bb",
   "metadata": {},
   "outputs": [
    {
     "data": {
      "text/plain": [
       "'Hello Bob'"
      ]
     },
     "execution_count": 5,
     "metadata": {},
     "output_type": "execute_result"
    }
   ],
   "source": [
    "greet = '  Hello Bob'\n",
    "greet.lstrip()"
   ]
  },
  {
   "cell_type": "code",
   "execution_count": 7,
   "id": "45d5b4f9-2746-49b7-abf0-464e5bd45b2b",
   "metadata": {},
   "outputs": [
    {
     "data": {
      "text/plain": [
       "'Hi Bob'"
      ]
     },
     "execution_count": 7,
     "metadata": {},
     "output_type": "execute_result"
    }
   ],
   "source": [
    "greet = 'Hi Bob      '\n",
    "greet.rstrip()"
   ]
  },
  {
   "cell_type": "code",
   "execution_count": 9,
   "id": "9f290383-5fd5-4df5-8a16-cb2ef221f480",
   "metadata": {},
   "outputs": [
    {
     "data": {
      "text/plain": [
       "'Helo  Bb'"
      ]
     },
     "execution_count": 9,
     "metadata": {},
     "output_type": "execute_result"
    }
   ],
   "source": [
    "greet = '     Helo  Bb   ' \n",
    "greet.strip()"
   ]
  },
  {
   "cell_type": "code",
   "execution_count": 13,
   "id": "d57e10fd-4d56-4fdf-8b12-79cc0e9d139e",
   "metadata": {},
   "outputs": [
    {
     "data": {
      "text/plain": [
       "True"
      ]
     },
     "execution_count": 13,
     "metadata": {},
     "output_type": "execute_result"
    }
   ],
   "source": [
    "line = 'Please have'\n",
    "line.startswith('Please')"
   ]
  },
  {
   "cell_type": "code",
   "execution_count": 17,
   "id": "aa850bce-4dd0-4236-b824-9a7906215d7d",
   "metadata": {},
   "outputs": [
    {
     "name": "stdout",
     "output_type": "stream",
     "text": [
      "12\n"
     ]
    }
   ],
   "source": [
    "x = 'From marquar@uct.ac.za'\n",
    "y = x.find('@')\n",
    "print(y)"
   ]
  },
  {
   "cell_type": "code",
   "execution_count": 25,
   "id": "fd03ac9b-9199-4ca2-9eb8-5cc9b40c33e2",
   "metadata": {},
   "outputs": [
    {
     "name": "stdout",
     "output_type": "stream",
     "text": [
      "ct.\n"
     ]
    }
   ],
   "source": [
    "x = 'From marquar@uct.ac.za'\n",
    "print(x[14:17])"
   ]
  },
  {
   "cell_type": "code",
   "execution_count": 29,
   "id": "e8e0cf81-64c6-44e4-8d2e-faef4bd367c9",
   "metadata": {},
   "outputs": [
    {
     "name": "stdout",
     "output_type": "stream",
     "text": [
      "42\n"
     ]
    }
   ],
   "source": [
    "print(len('banana')*7)"
   ]
  },
  {
   "cell_type": "code",
   "execution_count": 33,
   "id": "aa5f3f1c-49a4-4cd9-be23-b864116abd7e",
   "metadata": {},
   "outputs": [
    {
     "name": "stdout",
     "output_type": "stream",
     "text": [
      "12\n",
      ".ma\n"
     ]
    }
   ],
   "source": [
    "data = 'From stephen.marquar@uct.ac.za'\n",
    "pos = data.find('.')\n",
    "print(pos)\n",
    "print(data[pos:pos+3])"
   ]
  },
  {
   "cell_type": "code",
   "execution_count": 40,
   "id": "bb3a69ab-3f0b-44ff-936f-9bfae46b1d98",
   "metadata": {},
   "outputs": [
    {
     "name": "stdout",
     "output_type": "stream",
     "text": [
      "23\n",
      "0.8475\n"
     ]
    }
   ],
   "source": [
    "text = \"X-DSPAM-Confidence:    0.8475\"\n",
    "t1 = text.find('0')\n",
    "print(t1)\n",
    "print(float(text[23:]))\n"
   ]
  },
  {
   "cell_type": "code",
   "execution_count": null,
   "id": "0ac13522-4cf2-4470-b010-7cfcbb4b9d5f",
   "metadata": {},
   "outputs": [],
   "source": [
    "file = open('test.txt')\n",
    "count = 0\n",
    "for line in file:\n",
    "    count = count+1\n",
    "print('Line Count: ' , count)"
   ]
  },
  {
   "cell_type": "code",
   "execution_count": 9,
   "id": "8a6171bd-a284-4b8b-bffe-814a529c5fbd",
   "metadata": {},
   "outputs": [
    {
     "name": "stdout",
     "output_type": "stream",
     "text": [
      "964\n"
     ]
    }
   ],
   "source": [
    "newfile = open('test.txt')\n",
    "inp=newfile.read()\n",
    "print(len(inp))"
   ]
  },
  {
   "cell_type": "code",
   "execution_count": 37,
   "id": "4fb48853-3478-4978-bdda-2e42562816dc",
   "metadata": {},
   "outputs": [
    {
     "name": "stdin",
     "output_type": "stream",
     "text": [
      "Enter the file name: MCP.log\n"
     ]
    },
    {
     "name": "stdout",
     "output_type": "stream",
     "text": [
      "There were 5544 lines in MCP.log\n"
     ]
    }
   ],
   "source": [
    "fname = input('Enter the file name:' )\n",
    "fhand = open(fname)\n",
    "count = 0\n",
    "\n",
    "for line in fhand:\n",
    "    if 'Via'in line:\n",
    "        count = count+1\n",
    "print('There were', count , 'lines in', fname)"
   ]
  },
  {
   "cell_type": "code",
   "execution_count": 1,
   "id": "80dd19d3-4e9c-4663-af64-229d7b1c2f45",
   "metadata": {},
   "outputs": [
    {
     "name": "stdin",
     "output_type": "stream",
     "text": [
      "Enter the file name:  test.txt\n"
     ]
    },
    {
     "name": "stdout",
     "output_type": "stream",
     "text": [
      "There were 0 lines in test.txt\n"
     ]
    }
   ],
   "source": [
    "fname = input('Enter the file name: ')\n",
    "try:\n",
    "    fhand = open(fname)\n",
    "except:\n",
    "    print('File Cannot be opened: ',fname)\n",
    "    quit()\n",
    "\n",
    "count = 0\n",
    "for line in fhand:\n",
    "    if 'Via'in line:\n",
    "        count = count+1\n",
    "print('There were', count , 'lines in', fname)"
   ]
  },
  {
   "cell_type": "code",
   "execution_count": 31,
   "id": "86f10a51-bf85-4dcc-93a0-f0b2c9254af8",
   "metadata": {},
   "outputs": [
    {
     "name": "stdin",
     "output_type": "stream",
     "text": [
      "Enter the file name:  test.txt\n"
     ]
    },
    {
     "name": "stdout",
     "output_type": "stream",
     "text": [
      "WRITING PROGRAMS OR PROGRAMMING IS A VERY CREATIVE\n",
      "AND REWARDING ACTIVITY  YOU CAN WRITE PROGRAMS FOR\n",
      "MANY REASONS RANGING FROM MAKING YOUR LIVING TO SOLVING\n",
      "A DIFFICULT DATA ANALYSIS PROBLEM TO HAVING FUN TO HELPING\n",
      "SOMEONE ELSE SOLVE A PROBLEM  THIS BOOK ASSUMES THAT\n",
      "{\\EM EVERYONE} NEEDS TO KNOW HOW TO PROGRAM AND THAT ONCE\n",
      "YOU KNOW HOW TO PROGRAM, YOU WILL FIGURE OUT WHAT YOU WANT\n",
      "TO DO WITH YOUR NEWFOUND SKILLS\n",
      "\n",
      "WE ARE SURROUNDED IN OUR DAILY LIVES WITH COMPUTERS RANGING\n",
      "FROM LAPTOPS TO CELL PHONES  WE CAN THINK OF THESE COMPUTERS\n",
      "AS OUR PERSONAL ASSISTANTS WHO CAN TAKE CARE OF MANY THINGS\n",
      "ON OUR BEHALF  THE HARDWARE IN OUR CURRENT-DAY COMPUTERS\n",
      "IS ESSENTIALLY BUILT TO CONTINUOUSLY ASK US THE QUESTION\n",
      "WHAT WOULD YOU LIKE ME TO DO NEXT\n",
      "\n",
      "OUR COMPUTERS ARE FAST AND HAVE VASTS AMOUNTS OF MEMORY AND \n",
      "COULD BE VERY HELPFUL TO US IF WE ONLY KNEW THE LANGUAGE TO \n",
      "SPEAK TO EXPLAIN TO THE COMPUTER WHAT WE WOULD LIKE IT TO \n",
      "DO NEXT IF WE KNEW THIS LANGUAGE WE COULD TELL THE \n",
      "COMPUTER TO DO TASKS ON OUR BEHALF THAT WERE REPTITIVE  \n",
      "INTERESTINGLY, THE KINDS OF THINGS COMPUTERS CAN DO BEST\n",
      "ARE OFTEN THE KINDS OF THINGS THAT WE HUMANS FIND BORING\n",
      "AND MIND-NUMBING\n"
     ]
    }
   ],
   "source": [
    "fname = input('Enter the file name: ')\n",
    "fh = open(fname)\n",
    "fr = fh.read()\n",
    "file = fr.upper()\n",
    "print(file.rstrip())\n",
    "    "
   ]
  },
  {
   "cell_type": "code",
   "execution_count": 73,
   "id": "aa3905df-d9a2-46d6-98a4-1b44cc341e27",
   "metadata": {},
   "outputs": [
    {
     "name": "stdin",
     "output_type": "stream",
     "text": [
      "Enter the file name:  mbox.txt\n"
     ]
    },
    {
     "name": "stdout",
     "output_type": "stream",
     "text": [
      "27\n",
      "0.9907\n"
     ]
    }
   ],
   "source": [
    "#text = \"X-DSPAM-Confidence:    0.8475\"\n",
    "#t1 = text.find('0')\n",
    "#print(t1)\n",
    "#print(float(text[23:]))\n",
    "\n",
    "fname = input('Enter the file name: ')\n",
    "fh = open(fname)\n",
    "count = 0\n",
    "total = 0.0\n",
    "\n",
    "for line in fh:\n",
    "    if 'X-DSPAM-Confidence:' in line:\n",
    "        count=count+1\n",
    "        pos = line.find(':')\n",
    "        #value = float(line[pos + 1:].strip())\n",
    "        value = float(line[19:].strip())\n",
    "        #total=total+value\n",
    "        #average=total/count\n",
    "print(count)\n",
    "#print(total)\n",
    "#print(average)\n",
    "print(value)"
   ]
  },
  {
   "cell_type": "code",
   "execution_count": 5,
   "id": "3e96361b-4835-4f88-8cd0-a7f16d5cc75b",
   "metadata": {},
   "outputs": [
    {
     "name": "stdout",
     "output_type": "stream",
     "text": [
      "['book', 99]\n"
     ]
    }
   ],
   "source": [
    "stuff = list()\n",
    "stuff.append('book')\n",
    "stuff.append(99)\n",
    "print(stuff)"
   ]
  },
  {
   "cell_type": "code",
   "execution_count": 7,
   "id": "51333548-13f5-4a36-8a80-849404a56b16",
   "metadata": {},
   "outputs": [
    {
     "name": "stdin",
     "output_type": "stream",
     "text": [
      "Enter the number:  10\n",
      "Enter the number:  12\n",
      "Enter the number:  13.9\n",
      "Enter the number:  done\n"
     ]
    },
    {
     "name": "stdout",
     "output_type": "stream",
     "text": [
      "average: 11.966666666666667\n"
     ]
    }
   ],
   "source": [
    "numlist = list()\n",
    "while True:\n",
    "    inp = input(\"Enter the number: \")\n",
    "    if inp == 'done':\n",
    "        break\n",
    "    value = float(inp)\n",
    "    numlist.append(value)\n",
    "average= sum(numlist)/len(numlist)\n",
    "print('average:',average)"
   ]
  },
  {
   "cell_type": "code",
   "execution_count": 11,
   "id": "515a5ad4-b256-4998-912c-5c3d9705d349",
   "metadata": {},
   "outputs": [
    {
     "name": "stdout",
     "output_type": "stream",
     "text": [
      "['With', 'three', 'words']\n",
      "3\n"
     ]
    }
   ],
   "source": [
    "abc = 'With three words'\n",
    "stuff = abc.split()\n",
    "print(stuff)\n",
    "print(len(stuff))"
   ]
  },
  {
   "cell_type": "code",
   "execution_count": 17,
   "id": "bf6deeef-1a7a-477c-b98a-874e256912d6",
   "metadata": {},
   "outputs": [
    {
     "name": "stdout",
     "output_type": "stream",
     "text": [
      "['first', 'second', 'third']\n"
     ]
    }
   ],
   "source": [
    "line ='first;second;third'\n",
    "thing = line.split(';')\n",
    "print(thing)"
   ]
  },
  {
   "cell_type": "code",
   "execution_count": 23,
   "id": "362aa79b-a86b-41ba-a393-09f8f141f86b",
   "metadata": {},
   "outputs": [
    {
     "name": "stdout",
     "output_type": "stream",
     "text": [
      "stephen.marquard@uct.ac.za\n",
      "stephen.marquard@uct.ac.za\n",
      "louis@media.berkeley.edu\n",
      "louis@media.berkeley.edu\n",
      "zqian@umich.edu\n",
      "zqian@umich.edu\n",
      "rjlowe@iupui.edu\n",
      "rjlowe@iupui.edu\n",
      "zqian@umich.edu\n",
      "zqian@umich.edu\n",
      "rjlowe@iupui.edu\n",
      "rjlowe@iupui.edu\n",
      "cwen@iupui.edu\n",
      "cwen@iupui.edu\n",
      "cwen@iupui.edu\n",
      "cwen@iupui.edu\n",
      "gsilver@umich.edu\n",
      "gsilver@umich.edu\n",
      "gsilver@umich.edu\n",
      "gsilver@umich.edu\n",
      "zqian@umich.edu\n",
      "zqian@umich.edu\n",
      "gsilver@umich.edu\n",
      "gsilver@umich.edu\n",
      "wagnermr@iupui.edu\n",
      "wagnermr@iupui.edu\n",
      "zqian@umich.edu\n",
      "zqian@umich.edu\n",
      "antranig@caret.cam.ac.uk\n",
      "antranig@caret.cam.ac.uk\n",
      "gopal.ramasammycook@gmail.com\n",
      "gopal.ramasammycook@gmail.com\n",
      "david.horwitz@uct.ac.za\n",
      "david.horwitz@uct.ac.za\n",
      "david.horwitz@uct.ac.za\n",
      "david.horwitz@uct.ac.za\n",
      "david.horwitz@uct.ac.za\n",
      "david.horwitz@uct.ac.za\n",
      "david.horwitz@uct.ac.za\n",
      "david.horwitz@uct.ac.za\n",
      "stephen.marquard@uct.ac.za\n",
      "stephen.marquard@uct.ac.za\n",
      "louis@media.berkeley.edu\n",
      "louis@media.berkeley.edu\n",
      "louis@media.berkeley.edu\n",
      "louis@media.berkeley.edu\n",
      "ray@media.berkeley.edu\n",
      "ray@media.berkeley.edu\n",
      "cwen@iupui.edu\n",
      "cwen@iupui.edu\n",
      "cwen@iupui.edu\n",
      "cwen@iupui.edu\n",
      "cwen@iupui.edu\n",
      "cwen@iupui.edu\n"
     ]
    }
   ],
   "source": [
    "fhand = open('mbox.txt')\n",
    "for line in fhand:\n",
    "    line = line.rstrip()\n",
    "    if not line.startswith('From'):\n",
    "        continue\n",
    "    words = line.split()\n",
    "    print(words[1])"
   ]
  },
  {
   "cell_type": "code",
   "execution_count": 25,
   "id": "250a1cb1-bab8-4976-8949-7e6fb80764d9",
   "metadata": {},
   "outputs": [
    {
     "name": "stdout",
     "output_type": "stream",
     "text": [
      "uct.ac.za\n",
      "uct.ac.za\n",
      "media.berkeley.edu\n",
      "media.berkeley.edu\n",
      "umich.edu\n",
      "umich.edu\n",
      "iupui.edu\n",
      "iupui.edu\n",
      "umich.edu\n",
      "umich.edu\n",
      "iupui.edu\n",
      "iupui.edu\n",
      "iupui.edu\n",
      "iupui.edu\n",
      "iupui.edu\n",
      "iupui.edu\n",
      "umich.edu\n",
      "umich.edu\n",
      "umich.edu\n",
      "umich.edu\n",
      "umich.edu\n",
      "umich.edu\n",
      "umich.edu\n",
      "umich.edu\n",
      "iupui.edu\n",
      "iupui.edu\n",
      "umich.edu\n",
      "umich.edu\n",
      "caret.cam.ac.uk\n",
      "caret.cam.ac.uk\n",
      "gmail.com\n",
      "gmail.com\n",
      "uct.ac.za\n",
      "uct.ac.za\n",
      "uct.ac.za\n",
      "uct.ac.za\n",
      "uct.ac.za\n",
      "uct.ac.za\n",
      "uct.ac.za\n",
      "uct.ac.za\n",
      "uct.ac.za\n",
      "uct.ac.za\n",
      "media.berkeley.edu\n",
      "media.berkeley.edu\n",
      "media.berkeley.edu\n",
      "media.berkeley.edu\n",
      "media.berkeley.edu\n",
      "media.berkeley.edu\n",
      "iupui.edu\n",
      "iupui.edu\n",
      "iupui.edu\n",
      "iupui.edu\n",
      "iupui.edu\n",
      "iupui.edu\n"
     ]
    }
   ],
   "source": [
    "fhand = open('mbox.txt')\n",
    "for line in fhand:\n",
    "    line = line.rstrip()\n",
    "    if not line.startswith('From'):\n",
    "        continue\n",
    "    words = line.split()\n",
    "    email=words[1]\n",
    "    peice = email.split('@')\n",
    "    print(peice[1])"
   ]
  },
  {
   "cell_type": "code",
   "execution_count": 33,
   "id": "52ef63df-c3b8-484a-8f5a-874e34011ec6",
   "metadata": {},
   "outputs": [
    {
     "name": "stdout",
     "output_type": "stream",
     "text": [
      "[0, 1, 2, 3, 4]\n"
     ]
    }
   ],
   "source": [
    "x= list(range(5))\n",
    "print(x)"
   ]
  },
  {
   "cell_type": "code",
   "execution_count": 97,
   "id": "8c939c76-9000-4e72-b88b-12b575d351c7",
   "metadata": {},
   "outputs": [
    {
     "name": "stdout",
     "output_type": "stream",
     "text": [
      "['grief', 'grief', 'grief', 'grief', 'grief', 'grief', 'grief', 'grief', 'grief', 'grief', 'grief', 'grief', 'grief', 'grief', 'grief', 'grief', 'grief', 'grief', 'grief', 'grief', 'grief', 'grief', 'grief', 'grief', 'grief', 'grief', 'grief', 'grief', 'grief', 'grief', 'grief', 'grief']\n"
     ]
    }
   ],
   "source": [
    "fname = open('romeo.txt')\n",
    "my_list =[]\n",
    "\n",
    "for line in fname:\n",
    "    line=line.rstrip()\n",
    "    word=line.split()\n",
    "    \n",
    "    for words in word:\n",
    "        if words.lower() not in my_list:\n",
    "            my_list.append(p)\n",
    "print(my_list)"
   ]
  },
  {
   "cell_type": "code",
   "execution_count": 89,
   "id": "199871f4-e9cd-47be-b1eb-254a9193e1c4",
   "metadata": {},
   "outputs": [
    {
     "name": "stdout",
     "output_type": "stream",
     "text": [
      "['Arise', 'But', 'It', 'Juliet', 'Who', 'already', 'and', 'breaks', 'east', 'envious', 'fair', 'grief', 'is', 'kill', 'light', 'moon', 'pale', 'sick', 'soft', 'sun', 'the', 'through', 'what', 'window', 'with', 'yonder']\n"
     ]
    }
   ],
   "source": [
    "# Input multiline string\n",
    "mystr = '''But soft what light through yonder window breaks\n",
    "It is the east and Juliet is the sun\n",
    "Arise fair sun and kill the envious moon\n",
    "Who is already sick and pale with grief'''\n",
    "\n",
    "# Initialize an empty list to store unique words\n",
    "unique_words = []\n",
    "\n",
    "# Iterate through each line in the string\n",
    "for line in mystr.split('\\n'):\n",
    "    # Split the line into words\n",
    "    words = line.split()\n",
    "    \n",
    "    # For each word, check if it's not in the list and then append it\n",
    "    for word in words:\n",
    "        if word.lower() not in [w.lower() for w in unique_words]:  # case insensitive check\n",
    "            unique_words.append(word)\n",
    "\n",
    "# Sort the list of words\n",
    "unique_words.sort()\n",
    "\n",
    "# Print the sorted list of unique words\n",
    "print(unique_words)\n"
   ]
  },
  {
   "cell_type": "code",
   "execution_count": 19,
   "id": "f4b7d228-d125-4ab5-ab65-7d933f9f8c82",
   "metadata": {},
   "outputs": [
    {
     "name": "stdout",
     "output_type": "stream",
     "text": [
      "Sat\n",
      "Fri\n",
      "Fri\n",
      "Fri\n",
      "Fri\n",
      "Fri\n",
      "Fri\n",
      "Fri\n",
      "Fri\n",
      "Fri\n",
      "Fri\n",
      "Fri\n",
      "Fri\n",
      "Fri\n",
      "Fri\n",
      "Fri\n",
      "Fri\n",
      "Fri\n",
      "Fri\n",
      "Fri\n",
      "Fri\n",
      "Thu\n",
      "Thu\n",
      "Thu\n",
      "Thu\n",
      "Thu\n",
      "Thu\n"
     ]
    }
   ],
   "source": [
    "fhand = open('mbox.txt')\n",
    "\n",
    "for line in fhand:\n",
    "    line = line.rstrip()\n",
    "    wds = line.split()\n",
    "    if len(wds) <3:\n",
    "        continue\n",
    "    if wds[0] != 'From':\n",
    "        continue\n",
    "    print(wds[2])"
   ]
  },
  {
   "cell_type": "code",
   "execution_count": 57,
   "id": "f33020fe-d282-4d21-a6c5-faaef0470046",
   "metadata": {},
   "outputs": [
    {
     "name": "stdout",
     "output_type": "stream",
     "text": [
      "stephen.marquard@uct.ac.za\n",
      "louis@media.berkeley.edu\n",
      "zqian@umich.edu\n",
      "rjlowe@iupui.edu\n",
      "zqian@umich.edu\n",
      "rjlowe@iupui.edu\n",
      "cwen@iupui.edu\n",
      "cwen@iupui.edu\n",
      "gsilver@umich.edu\n",
      "gsilver@umich.edu\n",
      "zqian@umich.edu\n",
      "gsilver@umich.edu\n",
      "wagnermr@iupui.edu\n",
      "zqian@umich.edu\n",
      "antranig@caret.cam.ac.uk\n",
      "gopal.ramasammycook@gmail.com\n",
      "david.horwitz@uct.ac.za\n",
      "david.horwitz@uct.ac.za\n",
      "david.horwitz@uct.ac.za\n",
      "david.horwitz@uct.ac.za\n",
      "stephen.marquard@uct.ac.za\n",
      "louis@media.berkeley.edu\n",
      "louis@media.berkeley.edu\n",
      "ray@media.berkeley.edu\n",
      "cwen@iupui.edu\n",
      "cwen@iupui.edu\n",
      "cwen@iupui.edu\n",
      "27\n"
     ]
    }
   ],
   "source": [
    "fhand = open('mbox.txt')\n",
    "count = 0\n",
    "\n",
    "for line in fhand:\n",
    "    line = line.strip()\n",
    "    wds = line.split()\n",
    "    if len(wds) <3 or wds[0] != 'From':\n",
    "        continue\n",
    "    count = count +1\n",
    "    print(wds[1])\n",
    "print(count)\n",
    "    "
   ]
  },
  {
   "cell_type": "code",
   "execution_count": 11,
   "id": "f7a33451-6d3f-4bcc-9c5d-43ea45fa3be2",
   "metadata": {},
   "outputs": [
    {
     "name": "stdout",
     "output_type": "stream",
     "text": [
      "['Arise', 'But', 'It', 'Juliet', 'Who', 'already', 'and', 'breaks', 'east', 'envious', 'fair', 'grief', 'is', 'kill', 'light', 'moon', 'pale', 'sick', 'soft', 'sun', 'the', 'through', 'what', 'window', 'with', 'yonder']\n"
     ]
    }
   ],
   "source": [
    "fhand1 = open('romeo.txt')\n",
    "mylist = []\n",
    "unique_words=[]\n",
    "for line in fhand1:\n",
    "    line = line.strip()\n",
    "    wds = line.split()\n",
    "    for eachword in wds:\n",
    "        if eachword not in wds:\n",
    "            continue\n",
    "        mylist.append(eachword)\n",
    "    for word in mylist:\n",
    "        if word not in unique_words:\n",
    "            unique_words.append(word)\n",
    "unique_words.sort()\n",
    "print(unique_words)\n"
   ]
  },
  {
   "cell_type": "code",
   "execution_count": 13,
   "id": "83f6b922-3dee-447a-9c42-4dcaffc230d0",
   "metadata": {},
   "outputs": [
    {
     "name": "stdout",
     "output_type": "stream",
     "text": [
      "x\n"
     ]
    }
   ],
   "source": [
    "print('x')"
   ]
  }
 ],
 "metadata": {
  "kernelspec": {
   "display_name": "Python 3 (ipykernel)",
   "language": "python",
   "name": "python3"
  },
  "language_info": {
   "codemirror_mode": {
    "name": "ipython",
    "version": 3
   },
   "file_extension": ".py",
   "mimetype": "text/x-python",
   "name": "python",
   "nbconvert_exporter": "python",
   "pygments_lexer": "ipython3",
   "version": "3.12.4"
  }
 },
 "nbformat": 4,
 "nbformat_minor": 5
}
